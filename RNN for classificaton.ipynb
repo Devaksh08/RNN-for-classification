{
  "nbformat": 4,
  "nbformat_minor": 0,
  "metadata": {
    "colab": {
      "provenance": [],
      "gpuType": "T4"
    },
    "kernelspec": {
      "name": "python3",
      "display_name": "Python 3"
    },
    "language_info": {
      "name": "python"
    },
    "accelerator": "GPU",
    "gpuClass": "standard"
  },
  "cells": [
    {
      "cell_type": "markdown",
      "source": [
        "Build a Recurrent Neural Network(RNN) Model for Classification"
      ],
      "metadata": {
        "id": "tg09Xexn0jiy"
      }
    },
    {
      "cell_type": "code",
      "execution_count": 2,
      "metadata": {
        "id": "TtrUOGi60g06"
      },
      "outputs": [],
      "source": [
        "import tensorflow as tf\n",
        "from tensorflow.keras.datasets import imdb\n",
        "from tensorflow.keras.preprocessing import sequence\n",
        "from tensorflow.keras.models import Sequential\n",
        "from tensorflow.keras.layers import Embedding, LSTM, Dense"
      ]
    },
    {
      "cell_type": "code",
      "source": [
        "max_features = 10000\n",
        "max_length = 500\n",
        "(x_train, y_train), (x_test, y_test) = imdb.load_data(num_words=max_features)"
      ],
      "metadata": {
        "colab": {
          "base_uri": "https://localhost:8080/"
        },
        "id": "pM7Sp-6b04k3",
        "outputId": "1a7cecea-e5a4-4f70-e57d-3b437c7f584d"
      },
      "execution_count": 3,
      "outputs": [
        {
          "output_type": "stream",
          "name": "stdout",
          "text": [
            "Downloading data from https://storage.googleapis.com/tensorflow/tf-keras-datasets/imdb.npz\n",
            "17464789/17464789 [==============================] - 0s 0us/step\n"
          ]
        }
      ]
    },
    {
      "cell_type": "code",
      "source": [
        "x_train = sequence.pad_sequences(x_train, maxlen=max_length)\n",
        "x_test = sequence.pad_sequences(x_test, maxlen=max_length)"
      ],
      "metadata": {
        "id": "4h6BwKW71NTO"
      },
      "execution_count": 4,
      "outputs": []
    },
    {
      "cell_type": "code",
      "source": [
        "model = Sequential()\n",
        "model.add(Embedding(max_features, 32))\n",
        "model.add(LSTM(32))\n",
        "model.add(Dense(1, activation='sigmoid'))"
      ],
      "metadata": {
        "id": "YpQ1B1rF04Wk"
      },
      "execution_count": 5,
      "outputs": []
    },
    {
      "cell_type": "code",
      "source": [
        "model.compile(optimizer='adam',\n",
        "              loss='binary_crossentropy',\n",
        "              metrics=['accuracy'])"
      ],
      "metadata": {
        "id": "8q_TbVqu04Mv"
      },
      "execution_count": 6,
      "outputs": []
    },
    {
      "cell_type": "code",
      "source": [
        "batch_size = 64\n",
        "epochs = 5\n",
        "model.fit(x_train, y_train, batch_size=batch_size, epochs=epochs, validation_data=(x_test, y_test))"
      ],
      "metadata": {
        "colab": {
          "base_uri": "https://localhost:8080/"
        },
        "id": "p0nvPmsu04JU",
        "outputId": "d594819b-d209-4229-fd8c-62cbdd774762"
      },
      "execution_count": 7,
      "outputs": [
        {
          "output_type": "stream",
          "name": "stdout",
          "text": [
            "Epoch 1/5\n",
            "391/391 [==============================] - 76s 176ms/step - loss: 0.4287 - accuracy: 0.7932 - val_loss: 0.3235 - val_accuracy: 0.8620\n",
            "Epoch 2/5\n",
            "391/391 [==============================] - 39s 99ms/step - loss: 0.2365 - accuracy: 0.9095 - val_loss: 0.3047 - val_accuracy: 0.8806\n",
            "Epoch 3/5\n",
            "391/391 [==============================] - 24s 60ms/step - loss: 0.1796 - accuracy: 0.9334 - val_loss: 0.3300 - val_accuracy: 0.8748\n",
            "Epoch 4/5\n",
            "391/391 [==============================] - 17s 45ms/step - loss: 0.1419 - accuracy: 0.9490 - val_loss: 0.3597 - val_accuracy: 0.8665\n",
            "Epoch 5/5\n",
            "391/391 [==============================] - 19s 48ms/step - loss: 0.1901 - accuracy: 0.9200 - val_loss: 0.3959 - val_accuracy: 0.8550\n"
          ]
        },
        {
          "output_type": "execute_result",
          "data": {
            "text/plain": [
              "<keras.callbacks.History at 0x7f20038aa560>"
            ]
          },
          "metadata": {},
          "execution_count": 7
        }
      ]
    },
    {
      "cell_type": "code",
      "source": [
        "test_loss, test_accuracy = model.evaluate(x_test, y_test)\n",
        "print(\"Test Loss:\", test_loss)\n",
        "print(\"Test Accuracy:\", test_accuracy)"
      ],
      "metadata": {
        "colab": {
          "base_uri": "https://localhost:8080/"
        },
        "id": "bjPgp00504Gq",
        "outputId": "fa7d02c2-5b9d-46cc-f65a-cf5c4c4ff4a3"
      },
      "execution_count": 8,
      "outputs": [
        {
          "output_type": "stream",
          "name": "stdout",
          "text": [
            "782/782 [==============================] - 6s 7ms/step - loss: 0.3959 - accuracy: 0.8550\n",
            "Test Loss: 0.3959449231624603\n",
            "Test Accuracy: 0.8550400137901306\n"
          ]
        }
      ]
    }
  ]
}